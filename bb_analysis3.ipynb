{
 "cells": [
  {
   "cell_type": "markdown",
   "id": "87232477",
   "metadata": {},
   "source": [
    "<img style=\"float: right;\" src=\"https://upload.wikimedia.org/wikipedia/commons/f/f5/Best_Buy_Logo.svg\" alt=\"bb logo\" width=\"100\"/>\n",
    "\n",
    "<h1><FONT COLOR=#0000E5>BESTBUY </FONT>Televisions</h1>\n",
    "\n",
    "## 📉 Data Analysis <SPAN STYLE=\"font-size:18.0pt;font-family:Georgia;\">III</span>\n",
    "### Customer Brand <FONT COLOR=#0000E5>Loyalty</FONT> & <FONT COLOR=#0000E5>Price Sensitivity</FONT>?"
   ]
  },
  {
   "cell_type": "code",
   "execution_count": 2,
   "id": "77beda1d",
   "metadata": {},
   "outputs": [],
   "source": [
    "import requests\n",
    "import json\n",
    "import numpy as np\n",
    "import pandas as pd\n",
    "from python_proj.spiders.myAPIkey import getkey"
   ]
  },
  {
   "cell_type": "code",
   "execution_count": 3,
   "id": "cfc39bd3",
   "metadata": {},
   "outputs": [],
   "source": [
    "myAPIkey = getkey()\n",
    "url_head = \"https://api.bestbuy.com/v1/products/\"  # obtained from https://developer.bestbuy.com/\n",
    "endpoint = \"/viewedUltimatelyBought?\""
   ]
  },
  {
   "cell_type": "code",
   "execution_count": 4,
   "id": "ea40dcf2",
   "metadata": {},
   "outputs": [],
   "source": [
    "# Load in list of product sku #s to request\n",
    "bb = pd.read_csv('python_proj\\\\bb_clean.csv')\n",
    "bb = bb.set_index('sku')"
   ]
  },
  {
   "cell_type": "code",
   "execution_count": 5,
   "id": "2e62eb3f",
   "metadata": {},
   "outputs": [
    {
     "data": {
      "text/plain": [
       "'6296602'"
      ]
     },
     "execution_count": 5,
     "metadata": {},
     "output_type": "execute_result"
    }
   ],
   "source": [
    "### Try test GET ###\n",
    "sku = '6466022'\n",
    "url_full = f'{url_head}{sku}{endpoint}apiKey={myAPIkey}'\n",
    "res = requests.get(url=url_full)\n",
    "json.loads(res.content)['results'][0]['sku']"
   ]
  },
  {
   "cell_type": "markdown",
   "id": "cedd6c0c",
   "metadata": {},
   "source": [
    "# <FONT COLOR=#FF0000> -------------------- API Pull  Code Start-------------------- </FONT>\n",
    "\n",
    "<FONT COLOR=#FF0000> Takes 10 mins to complete! </FONT><BR>\n",
    "<FONT COLOR=#FF0000> If not updating request data, skip and import saved csv instead </FONT>\n",
    "\n",
    "### For each TV, take sku# and make request for <FONT COLOR=#0000E5>Viewed Ultimately Bought</FONT> Products\n",
    "\"Viewed Ultimately Bought Products endpoint can be used to identify the ***top ten products*** that were bought after having viewed the originating product.\""
   ]
  },
  {
   "cell_type": "code",
   "execution_count": 6,
   "id": "06edee59",
   "metadata": {},
   "outputs": [],
   "source": [
    "# time package for random pausing during API get\n",
    "import time"
   ]
  },
  {
   "cell_type": "code",
   "execution_count": 7,
   "id": "018a9f5e",
   "metadata": {},
   "outputs": [],
   "source": [
    "#initialte dict to collect all get results\n",
    "get_full = {}"
   ]
  },
  {
   "cell_type": "code",
   "execution_count": 112,
   "id": "e9c9dd3d",
   "metadata": {},
   "outputs": [],
   "source": [
    "\"\"\"\n",
    "Takes 10 mins to complete!!\n",
    "If not updating request data, skip and import saved csv instead\n",
    "\"\"\"\n",
    "\n",
    "for sku in bb.index:  # replace with [6466022,6414244,6461913,6466017,5900939] or bb.index\n",
    "    \"\"\"\n",
    "    Loop through sku #s and request associated \"Viewed Ultimately Bought\" product skus\n",
    "    Save request.content as dictionary (dict.update each request)\n",
    "    \"\"\"\n",
    "    url_full = f'{url_head}{sku}{endpoint}apiKey={myAPIkey}'\n",
    "    res = requests.get(url=url_full)\n",
    "    res_content = json.loads(res.content)['results']\n",
    "    \n",
    "    # convert response to dict entry\n",
    "    get_entry = {sku:[res_content[i]['sku'] for i in range(len(res_content))]}\n",
    "    \n",
    "    # if response does not return 10 results, fill in NaN up to 10\n",
    "    dist_from_10 = 10 - len([*get_entry.values()][0])\n",
    "    [[*get_entry.values()][0].append(np.nan) for i in range(dist_from_10)]\n",
    "    \n",
    "    # append dict entry\n",
    "    get_full.update(get_entry)\n",
    "    \n",
    "    time.sleep(np.random.rand()) # random pause between each request"
   ]
  },
  {
   "cell_type": "markdown",
   "id": "2cd2b777",
   "metadata": {},
   "source": [
    "### After API pull, place result dictionary into pd.DataFrame"
   ]
  },
  {
   "cell_type": "code",
   "execution_count": 130,
   "id": "439b32d8",
   "metadata": {},
   "outputs": [],
   "source": [
    "u_bought = pd.DataFrame.from_dict(get_full).T\n",
    "u_bought.index.rename('sku',inplace=True)\n",
    "u_bought.columns = [f'bu{i}' for i in range(1,11)]"
   ]
  },
  {
   "cell_type": "code",
   "execution_count": 138,
   "id": "50c382a3",
   "metadata": {},
   "outputs": [],
   "source": [
    "# save raw results to csv\n",
    "u_bought.to_csv('python_proj\\\\u_bought_raw.csv')"
   ]
  },
  {
   "cell_type": "markdown",
   "id": "aba79380",
   "metadata": {},
   "source": [
    "# <FONT COLOR=#FF0000> -------------------- API Pull  Code END-------------------- </FONT>"
   ]
  },
  {
   "cell_type": "code",
   "execution_count": 8,
   "id": "c9270321",
   "metadata": {},
   "outputs": [],
   "source": [
    "u_bought = pd.read_csv('python_proj\\\\u_bought_raw.csv')"
   ]
  },
  {
   "cell_type": "code",
   "execution_count": 9,
   "id": "30f1aae0",
   "metadata": {},
   "outputs": [],
   "source": [
    "# Check results\n",
    "assert u_bought.shape[0] == bb.shape[0] == 397, \"Pulled rows of data should equal # of products in bb_clean (397)\""
   ]
  },
  {
   "cell_type": "code",
   "execution_count": 10,
   "id": "82924e5f",
   "metadata": {
    "scrolled": true
   },
   "outputs": [
    {
     "data": {
      "text/plain": [
       "(3787, 1)"
      ]
     },
     "execution_count": 10,
     "metadata": {},
     "output_type": "execute_result"
    }
   ],
   "source": [
    "\"\"\"\n",
    "Prepare data for merge: \n",
    "1. melt into single column\n",
    "2. rename column \n",
    "3. drop unused column\n",
    "4. drop Nan rows\n",
    "5. ub_sku column dtype should be set to int64 or else merge raises Error\n",
    "\"\"\"\n",
    "ub_clean = pd.melt(u_bought.reset_index(), id_vars=['sku'],value_vars=[f'bu{i}' for i in range(1,11)])\n",
    "ub_clean = ub_clean.set_index('sku')\n",
    "ub_clean.rename(columns={'value':'ub_sku'}, inplace=True)\n",
    "ub_clean.drop(columns='variable', inplace=True)\n",
    "ub_clean.dropna(how='any',inplace=True)\n",
    "ub_clean['ub_sku'] = ub_clean['ub_sku'].astype('int64')\n",
    "ub_clean.shape  #from 3970 to 3787"
   ]
  },
  {
   "cell_type": "markdown",
   "id": "fcae4fbd",
   "metadata": {},
   "source": [
    "### Now we can merge with original bb data to obtain the bought TV brand & price"
   ]
  },
  {
   "cell_type": "markdown",
   "id": "ec026ea9",
   "metadata": {},
   "source": [
    "- merge once on index to get originating TV price and manuf\n",
    "- merge once on ub_sku to get ultimately bought TV price and manuf"
   ]
  },
  {
   "cell_type": "code",
   "execution_count": 11,
   "id": "de930ed5",
   "metadata": {},
   "outputs": [],
   "source": [
    "ub_final = ub_clean.merge(bb,how='left',left_on='sku',right_on='sku').set_index(ub_clean.index)\\\n",
    "                .drop(columns=['color', 'curved', 'display_type', 'energy_KWh', 'height_nostand',\n",
    "                               'model_num', 'model_year', 'online_avail', 'refresh_Hz', 'resolution', \n",
    "                               'review_average', 'review_count', 'sale_px', 'size_class', 'screen_size', \n",
    "                               'smart_capable', 'store_avail', 'sub_class', 'top_class', 'tv_name', \n",
    "                               'warranty_yrs', 'weight_nostand', 'width', 'bezel'])\n",
    "ub_final.rename(columns={'manufacturer':'orig_brand','regular_px':'orig_px'}, inplace=True)"
   ]
  },
  {
   "cell_type": "code",
   "execution_count": 12,
   "id": "b3e207cb",
   "metadata": {},
   "outputs": [],
   "source": [
    "ub_final = ub_final.merge(bb,how='left',left_on='ub_sku',right_on='sku').set_index(ub_clean.index)\\\n",
    "                .drop(columns=['color', 'curved', 'display_type', 'energy_KWh', 'height_nostand',\n",
    "                               'model_num', 'model_year', 'online_avail', 'refresh_Hz', 'resolution', \n",
    "                               'review_average', 'review_count', 'sale_px', 'size_class', 'screen_size', \n",
    "                               'smart_capable', 'store_avail', 'sub_class', 'top_class', 'tv_name', \n",
    "                               'warranty_yrs', 'weight_nostand', 'width', 'bezel'])\n",
    "ub_final.rename(columns={'manufacturer':'ub_brand','regular_px':'ub_px'}, inplace=True)"
   ]
  },
  {
   "cell_type": "code",
   "execution_count": 13,
   "id": "e1b04236",
   "metadata": {},
   "outputs": [
    {
     "data": {
      "text/plain": [
       "(86,)"
      ]
     },
     "execution_count": 13,
     "metadata": {},
     "output_type": "execute_result"
    }
   ],
   "source": [
    "ub_final.ub_brand.loc[ub_final.ub_brand.isna()].shape  # out of 3787, only 86 were not TV purchases"
   ]
  },
  {
   "cell_type": "code",
   "execution_count": 31,
   "id": "42f7e981",
   "metadata": {},
   "outputs": [],
   "source": [
    "ub_pxdiffs = ub_final.groupby('sku').mean()[['orig_px','ub_px']]"
   ]
  },
  {
   "cell_type": "code",
   "execution_count": 32,
   "id": "09582689",
   "metadata": {},
   "outputs": [],
   "source": [
    "ub_pxdiffs['px_diffs'] = ub_pxdiffs.orig_px - ub_pxdiffs.ub_px"
   ]
  },
  {
   "cell_type": "code",
   "execution_count": 33,
   "id": "57b4850b",
   "metadata": {},
   "outputs": [
    {
     "data": {
      "text/plain": [
       "count      381.000000\n",
       "mean       418.630367\n",
       "std       1295.167675\n",
       "min       -535.000000\n",
       "25%        -38.000000\n",
       "50%         23.000000\n",
       "75%        230.000000\n",
       "max      11000.000000\n",
       "Name: px_diffs, dtype: float64"
      ]
     },
     "execution_count": 33,
     "metadata": {},
     "output_type": "execute_result"
    }
   ],
   "source": [
    "ub_pxdiffs.px_diffs.describe()"
   ]
  },
  {
   "cell_type": "code",
   "execution_count": 34,
   "id": "ae44fa22",
   "metadata": {},
   "outputs": [],
   "source": [
    "import matplotlib.pyplot as plt\n",
    "import seaborn as sns\n",
    "%matplotlib inline"
   ]
  },
  {
   "cell_type": "markdown",
   "id": "f2b134c8",
   "metadata": {},
   "source": [
    "#### Get rid of the outliers that browsed \\$500 TVs but bought a 10000 dollar TV\n",
    "- go through and remove outliers ( >3 std)"
   ]
  },
  {
   "cell_type": "code",
   "execution_count": 20,
   "id": "5b06f8c0",
   "metadata": {},
   "outputs": [],
   "source": [
    "from python_proj.daniel_tools import rem_outlier"
   ]
  },
  {
   "cell_type": "code",
   "execution_count": 37,
   "id": "037a80aa",
   "metadata": {},
   "outputs": [],
   "source": [
    "ub_pxdiffs = rem_outlier(ub_pxdiffs,'px_diffs',3)"
   ]
  },
  {
   "cell_type": "code",
   "execution_count": 35,
   "id": "9798ddac",
   "metadata": {},
   "outputs": [],
   "source": [
    "n_plots = 10\n",
    "sns.set_palette(sns.color_palette(\"cividis\", n_plots), n_plots)"
   ]
  },
  {
   "cell_type": "code",
   "execution_count": 42,
   "id": "471b463e",
   "metadata": {},
   "outputs": [],
   "source": [
    "from scipy.stats import norm"
   ]
  },
  {
   "cell_type": "code",
   "execution_count": 68,
   "id": "f77cc50a",
   "metadata": {
    "scrolled": false
   },
   "outputs": [
    {
     "data": {
      "image/png": "[encoded data removed]",
      "text/plain": [
       "<Figure size 648x504 with 1 Axes>"
      ]
     },
     "metadata": {
      "needs_background": "light"
     },
     "output_type": "display_data"
    }
   ],
   "source": [
    "fig = plt.gcf()\n",
    "fig.set_size_inches(9,7)\n",
    "sns.histplot(ub_pxdiffs['px_diffs'], label='price diff',kde=True)\n",
    "plt.show()"
   ]
  },
  {
   "cell_type": "markdown",
   "id": "4fca0f79",
   "metadata": {},
   "source": [
    "#### Fairly price sticky, but right skewed with a few opting for more expensive choice"
   ]
  },
  {
   "cell_type": "markdown",
   "id": "a32835f7",
   "metadata": {},
   "source": [
    "# Check \"brand loyalty\": i.e. whether ultimately bought TV brand is same as viewed"
   ]
  },
  {
   "cell_type": "code",
   "execution_count": 118,
   "id": "9c3b000a",
   "metadata": {},
   "outputs": [],
   "source": [
    "ub_branddiffs = ub_final.drop(columns=['orig_px','ub_px'])"
   ]
  },
  {
   "cell_type": "code",
   "execution_count": 119,
   "id": "b4a4bfdd",
   "metadata": {},
   "outputs": [],
   "source": [
    "# Column 'loyal' = TRUE if original TV == ultimately bought TV\n",
    "ub_branddiffs['loyal'] = ub_branddiffs.orig_brand == ub_branddiffs.ub_brand"
   ]
  },
  {
   "cell_type": "code",
   "execution_count": 120,
   "id": "1d500190",
   "metadata": {},
   "outputs": [
    {
     "data": {
      "text/html": [
       "<div>\n",
       "<style scoped>\n",
       "    .dataframe tbody tr th:only-of-type {\n",
       "        vertical-align: middle;\n",
       "    }\n",
       "\n",
       "    .dataframe tbody tr th {\n",
       "        vertical-align: top;\n",
       "    }\n",
       "\n",
       "    .dataframe thead th {\n",
       "        text-align: right;\n",
       "    }\n",
       "</style>\n",
       "<table border=\"1\" class=\"dataframe\">\n",
       "  <thead>\n",
       "    <tr style=\"text-align: right;\">\n",
       "      <th></th>\n",
       "      <th>loyal</th>\n",
       "    </tr>\n",
       "  </thead>\n",
       "  <tbody>\n",
       "    <tr>\n",
       "      <th>count</th>\n",
       "      <td>378.000000</td>\n",
       "    </tr>\n",
       "    <tr>\n",
       "      <th>mean</th>\n",
       "      <td>5.812169</td>\n",
       "    </tr>\n",
       "    <tr>\n",
       "      <th>std</th>\n",
       "      <td>2.120798</td>\n",
       "    </tr>\n",
       "    <tr>\n",
       "      <th>min</th>\n",
       "      <td>1.000000</td>\n",
       "    </tr>\n",
       "    <tr>\n",
       "      <th>25%</th>\n",
       "      <td>4.000000</td>\n",
       "    </tr>\n",
       "    <tr>\n",
       "      <th>50%</th>\n",
       "      <td>6.000000</td>\n",
       "    </tr>\n",
       "    <tr>\n",
       "      <th>75%</th>\n",
       "      <td>7.000000</td>\n",
       "    </tr>\n",
       "    <tr>\n",
       "      <th>max</th>\n",
       "      <td>10.000000</td>\n",
       "    </tr>\n",
       "  </tbody>\n",
       "</table>\n",
       "</div>"
      ],
      "text/plain": [
       "            loyal\n",
       "count  378.000000\n",
       "mean     5.812169\n",
       "std      2.120798\n",
       "min      1.000000\n",
       "25%      4.000000\n",
       "50%      6.000000\n",
       "75%      7.000000\n",
       "max     10.000000"
      ]
     },
     "execution_count": 120,
     "metadata": {},
     "output_type": "execute_result"
    }
   ],
   "source": [
    "# groupby originating TV, and count # of TRUE\n",
    "ub_branddiffs = ub_branddiffs[ub_branddiffs['loyal']].groupby('sku').count()['loyal'].to_frame()\n",
    "ub_branddiffs.describe()"
   ]
  },
  {
   "cell_type": "markdown",
   "id": "853eebc4",
   "metadata": {},
   "source": [
    "#### Merge back to main DF, keep only product brand and count of ultimately bought that are of same brand"
   ]
  },
  {
   "cell_type": "code",
   "execution_count": 135,
   "id": "8e299c73",
   "metadata": {},
   "outputs": [],
   "source": [
    "ub_brandloyal = ub_final.merge(ub_branddiffs,how='inner',on='sku').drop(columns=['ub_sku','orig_px','ub_brand','ub_px'])\n",
    "ub_brandloyal = ub_brandloyal.groupby('sku').last()"
   ]
  },
  {
   "cell_type": "code",
   "execution_count": 136,
   "id": "71cc72a0",
   "metadata": {},
   "outputs": [
    {
     "data": {
      "text/html": [
       "<div>\n",
       "<style scoped>\n",
       "    .dataframe tbody tr th:only-of-type {\n",
       "        vertical-align: middle;\n",
       "    }\n",
       "\n",
       "    .dataframe tbody tr th {\n",
       "        vertical-align: top;\n",
       "    }\n",
       "\n",
       "    .dataframe thead th {\n",
       "        text-align: right;\n",
       "    }\n",
       "</style>\n",
       "<table border=\"1\" class=\"dataframe\">\n",
       "  <thead>\n",
       "    <tr style=\"text-align: right;\">\n",
       "      <th></th>\n",
       "      <th>orig_brand</th>\n",
       "      <th>loyal</th>\n",
       "    </tr>\n",
       "    <tr>\n",
       "      <th>sku</th>\n",
       "      <th></th>\n",
       "      <th></th>\n",
       "    </tr>\n",
       "  </thead>\n",
       "  <tbody>\n",
       "    <tr>\n",
       "      <th>5900939</th>\n",
       "      <td>Others</td>\n",
       "      <td>2</td>\n",
       "    </tr>\n",
       "    <tr>\n",
       "      <th>5900969</th>\n",
       "      <td>Others</td>\n",
       "      <td>4</td>\n",
       "    </tr>\n",
       "    <tr>\n",
       "      <th>6202766</th>\n",
       "      <td>Others</td>\n",
       "      <td>1</td>\n",
       "    </tr>\n",
       "    <tr>\n",
       "      <th>6280538</th>\n",
       "      <td>TCL</td>\n",
       "      <td>4</td>\n",
       "    </tr>\n",
       "    <tr>\n",
       "      <th>6302321</th>\n",
       "      <td>TCL</td>\n",
       "      <td>4</td>\n",
       "    </tr>\n",
       "    <tr>\n",
       "      <th>...</th>\n",
       "      <td>...</td>\n",
       "      <td>...</td>\n",
       "    </tr>\n",
       "    <tr>\n",
       "      <th>6479660</th>\n",
       "      <td>Others</td>\n",
       "      <td>3</td>\n",
       "    </tr>\n",
       "    <tr>\n",
       "      <th>6479707</th>\n",
       "      <td>Others</td>\n",
       "      <td>2</td>\n",
       "    </tr>\n",
       "    <tr>\n",
       "      <th>6479709</th>\n",
       "      <td>Others</td>\n",
       "      <td>3</td>\n",
       "    </tr>\n",
       "    <tr>\n",
       "      <th>6479710</th>\n",
       "      <td>Others</td>\n",
       "      <td>3</td>\n",
       "    </tr>\n",
       "    <tr>\n",
       "      <th>6480602</th>\n",
       "      <td>Samsung</td>\n",
       "      <td>6</td>\n",
       "    </tr>\n",
       "  </tbody>\n",
       "</table>\n",
       "<p>378 rows × 2 columns</p>\n",
       "</div>"
      ],
      "text/plain": [
       "        orig_brand  loyal\n",
       "sku                      \n",
       "5900939     Others      2\n",
       "5900969     Others      4\n",
       "6202766     Others      1\n",
       "6280538        TCL      4\n",
       "6302321        TCL      4\n",
       "...            ...    ...\n",
       "6479660     Others      3\n",
       "6479707     Others      2\n",
       "6479709     Others      3\n",
       "6479710     Others      3\n",
       "6480602    Samsung      6\n",
       "\n",
       "[378 rows x 2 columns]"
      ]
     },
     "execution_count": 136,
     "metadata": {},
     "output_type": "execute_result"
    }
   ],
   "source": [
    "ub_brandloyal"
   ]
  },
  {
   "cell_type": "code",
   "execution_count": 175,
   "id": "bca666c1",
   "metadata": {},
   "outputs": [
    {
     "data": {
      "image/png": "[encoded data removed]",
      "text/plain": [
       "<Figure size 720x504 with 1 Axes>"
      ]
     },
     "metadata": {
      "needs_background": "light"
     },
     "output_type": "display_data"
    }
   ],
   "source": [
    "fig = plt.gcf()\n",
    "fig.set_size_inches(10,7)\n",
    "\n",
    "# set order of x-axis categories\n",
    "order = ['Sony', 'Samsung', 'LG', 'Others', 'VIZIO', 'Hisense', 'TCL', 'Insignia™']\n",
    "\n",
    "# change median line to white\n",
    "PROPS = {'medianprops':{'color':'white'}}\n",
    "\n",
    "# Plot scatter over boxplot\n",
    "ax = sns.boxplot(data = ub_brandloyal, x='orig_brand', y='loyal',\n",
    "                order=order, palette='cividis', linewidth=1, whis=np.inf, **PROPS)\\\n",
    "                .set_title('TV Price by Brand and Size Class')\n",
    "ax = sns.stripplot(data = ub_brandloyal, x='orig_brand', y='loyal',\n",
    "                   order=order, size=10, jitter=0.2,\n",
    "                   palette='gist_earth', linewidth=0.5, edgecolor='w', alpha=0.8)\n",
    "plt.axhline(y=ub_brandloyal.loyal.mean(),c='#e66820',ls='--',linewidth=1)\n",
    "ax.annotate('Mean ~5.8', xy=(7.5,5.82), xytext=(7.8, 6.5),\n",
    "            arrowprops=dict(facecolor='#e66820', shrink=0.02),\n",
    "            )\n",
    "plt.show()"
   ]
  },
  {
   "cell_type": "code",
   "execution_count": 140,
   "id": "eecd0b95",
   "metadata": {
    "scrolled": true
   },
   "outputs": [
    {
     "data": {
      "text/plain": [
       "5.8121693121693125"
      ]
     },
     "execution_count": 140,
     "metadata": {},
     "output_type": "execute_result"
    }
   ],
   "source": [
    "ub_brandloyal.loyal.mean()"
   ]
  }
 ],
 "metadata": {
  "kernelspec": {
   "display_name": "Python 3",
   "language": "python",
   "name": "python3"
  },
  "language_info": {
   "codemirror_mode": {
    "name": "ipython",
    "version": 3
   },
   "file_extension": ".py",
   "mimetype": "text/x-python",
   "name": "python",
   "nbconvert_exporter": "python",
   "pygments_lexer": "ipython3",
   "version": "3.8.8"
  }
 },
 "nbformat": 4,
 "nbformat_minor": 5
}
