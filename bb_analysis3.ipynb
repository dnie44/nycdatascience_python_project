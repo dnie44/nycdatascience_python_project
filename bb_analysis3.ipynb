{
 "cells": [
  {
   "cell_type": "markdown",
   "id": "87232477",
   "metadata": {},
   "source": [
    "<img style=\"float: right;\" src=\"https://upload.wikimedia.org/wikipedia/commons/f/f5/Best_Buy_Logo.svg\" alt=\"bb logo\" width=\"100\"/>\n",
    "\n",
    "<h1><FONT COLOR=#0000E5>BESTBUY </FONT>Televisions</h1>\n",
    "\n",
    "## 📉 Data Analysis <SPAN STYLE=\"font-size:18.0pt;font-family:Georgia;\">III</span>\n",
    "### Customer Brand <FONT COLOR=#0000E5>Loyalty</FONT> & <FONT COLOR=#0000E5>Price Sensitivity</FONT>?"
   ]
  },
  {
   "cell_type": "code",
   "execution_count": 47,
   "id": "77beda1d",
   "metadata": {},
   "outputs": [],
   "source": [
    "import requests\n",
    "import json\n",
    "import numpy as np\n",
    "import pandas as pd\n",
    "from python_proj.spiders.myAPIkey import getkey"
   ]
  },
  {
   "cell_type": "code",
   "execution_count": 2,
   "id": "cfc39bd3",
   "metadata": {},
   "outputs": [],
   "source": [
    "myAPIkey = getkey()\n",
    "url_head = \"https://api.bestbuy.com/v1/products/\"  # obtained from https://developer.bestbuy.com/\n",
    "endpoint = \"/viewedUltimatelyBought?\""
   ]
  },
  {
   "cell_type": "code",
   "execution_count": 3,
   "id": "ea40dcf2",
   "metadata": {},
   "outputs": [],
   "source": [
    "# Load in list of product sku #s to request\n",
    "bb = pd.read_csv('python_proj\\\\bb_clean.csv')\n",
    "bb = bb.set_index('sku')"
   ]
  },
  {
   "cell_type": "code",
   "execution_count": 5,
   "id": "2e62eb3f",
   "metadata": {},
   "outputs": [
    {
     "data": {
      "text/plain": [
       "'6296602'"
      ]
     },
     "execution_count": 5,
     "metadata": {},
     "output_type": "execute_result"
    }
   ],
   "source": [
    "### Try test GET ###\n",
    "sku = '6466022'\n",
    "url_full = f'{url_head}{sku}{endpoint}apiKey={myAPIkey}'\n",
    "res = requests.get(url=url_full)\n",
    "json.loads(res.content)['results'][0]['sku']"
   ]
  },
  {
   "cell_type": "markdown",
   "id": "cedd6c0c",
   "metadata": {},
   "source": [
    "### For each TV, take sku# and make request for <FONT COLOR=#0000E5>Viewed Ultimately Bought</FONT> Products\n",
    "\"Viewed Ultimately Bought Products endpoint can be used to identify the ***top ten products*** that were bought after having viewed the originating product.\""
   ]
  },
  {
   "cell_type": "code",
   "execution_count": 110,
   "id": "82c07e61",
   "metadata": {},
   "outputs": [],
   "source": [
    "# time package for random pausing during API get\n",
    "import time"
   ]
  },
  {
   "cell_type": "code",
   "execution_count": 111,
   "id": "93ee1c24",
   "metadata": {},
   "outputs": [],
   "source": [
    "#initialte dict to collect all get results\n",
    "get_full = {}"
   ]
  },
  {
   "cell_type": "code",
   "execution_count": 112,
   "id": "e9c9dd3d",
   "metadata": {},
   "outputs": [],
   "source": [
    "\"\"\"\n",
    "Takes 10 mins to complete!!\n",
    "\"\"\"\n",
    "\n",
    "for sku in bb.index:  # replace with [6466022,6414244,6461913,6466017,5900939] or bb.index\n",
    "    \"\"\"\n",
    "    Loop through sku #s and request associated \"Viewed Ultimately Bought\" product skus\n",
    "    Save request.content as dictionary (dict.update each request)\n",
    "    \"\"\"\n",
    "    url_full = f'{url_head}{sku}{endpoint}apiKey={myAPIkey}'\n",
    "    res = requests.get(url=url_full)\n",
    "    res_content = json.loads(res.content)['results']\n",
    "    \n",
    "    # convert response to dict entry\n",
    "    get_entry = {sku:[res_content[i]['sku'] for i in range(len(res_content))]}\n",
    "    \n",
    "    # if response does not return 10 results, fill in NaN up to 10\n",
    "    dist_from_10 = 10 - len([*get_entry.values()][0])\n",
    "    [[*get_entry.values()][0].append(np.nan) for i in range(dist_from_10)]\n",
    "    \n",
    "    # append dict entry\n",
    "    get_full.update(get_entry)\n",
    "    \n",
    "    time.sleep(np.random.rand()) # random pause between each request"
   ]
  },
  {
   "cell_type": "markdown",
   "id": "7178ec63",
   "metadata": {},
   "source": [
    "### After API pull, place result dictionary into pd.DataFrame"
   ]
  },
  {
   "cell_type": "code",
   "execution_count": 130,
   "id": "3919ed9f",
   "metadata": {},
   "outputs": [],
   "source": [
    "u_bought = pd.DataFrame.from_dict(get_full).T\n",
    "u_bought.index.rename('sku',inplace=True)\n",
    "u_bought.columns = [f'bu{i}' for i in range(1,11)]"
   ]
  },
  {
   "cell_type": "code",
   "execution_count": 138,
   "id": "f204c9fb",
   "metadata": {},
   "outputs": [],
   "source": [
    "# save raw results to csv\n",
    "u_bought.to_csv('python_proj\\\\u_bought_raw.csv')"
   ]
  },
  {
   "cell_type": "code",
   "execution_count": 200,
   "id": "687d795e",
   "metadata": {},
   "outputs": [],
   "source": [
    "# Check results\n",
    "assert u_bought.shape[0] == bb.shape[0] == 397, \"Pulled rows of data should equal # of products in bb_clean (397)\""
   ]
  },
  {
   "cell_type": "code",
   "execution_count": 199,
   "id": "a1a3f3a1",
   "metadata": {
    "scrolled": true
   },
   "outputs": [
    {
     "data": {
      "text/plain": [
       "(3787, 1)"
      ]
     },
     "execution_count": 199,
     "metadata": {},
     "output_type": "execute_result"
    }
   ],
   "source": [
    "\"\"\"\n",
    "Prepare data for merge: \n",
    "1. melt into single column\n",
    "2. rename column \n",
    "3. drop unused column\n",
    "4. drop Nan rows\n",
    "5. ub_sku column dtype should be set to int64 or else merge raises Error\n",
    "\"\"\"\n",
    "ub_clean = pd.melt(u_bought.reset_index(), id_vars=['sku'],value_vars=[f'bu{i}' for i in range(1,11)])\n",
    "ub_clean = ub_clean.set_index('sku')\n",
    "ub_clean.rename(columns={'value':'ub_sku'}, inplace=True)\n",
    "ub_clean.drop(columns='variable', inplace=True)\n",
    "ub_clean.dropna(how='any',inplace=True)\n",
    "ub_clean['ub_sku'] = ub_clean['ub_sku'].astype('int64')\n",
    "ub_clean.shape  #from 3970 to 3787"
   ]
  },
  {
   "cell_type": "markdown",
   "id": "5cbbcb79",
   "metadata": {},
   "source": [
    "### Now we can merge with original bb data to obtain the bought TV brand & price"
   ]
  },
  {
   "cell_type": "code",
   "execution_count": 212,
   "id": "8f34b790",
   "metadata": {},
   "outputs": [],
   "source": [
    "ub_final = ub_clean.merge(bb,how='left',left_on='ub_sku',right_on='sku').set_index(ub_clean.index)\\\n",
    "                .drop(columns=['color', 'curved', 'display_type', 'energy_KWh', 'height_nostand',\n",
    "                               'model_num', 'model_year', 'online_avail', 'refresh_Hz', 'resolution', \n",
    "                               'review_average', 'review_count', 'sale_px', 'size_class', 'screen_size', \n",
    "                               'smart_capable', 'store_avail', 'sub_class', 'top_class', 'tv_name', \n",
    "                               'warranty_yrs', 'weight_nostand', 'width', 'bezel'])"
   ]
  },
  {
   "cell_type": "code",
   "execution_count": null,
   "id": "040a4e94",
   "metadata": {},
   "outputs": [],
   "source": []
  }
 ],
 "metadata": {
  "kernelspec": {
   "display_name": "Python 3",
   "language": "python",
   "name": "python3"
  },
  "language_info": {
   "codemirror_mode": {
    "name": "ipython",
    "version": 3
   },
   "file_extension": ".py",
   "mimetype": "text/x-python",
   "name": "python",
   "nbconvert_exporter": "python",
   "pygments_lexer": "ipython3",
   "version": "3.8.8"
  }
 },
 "nbformat": 4,
 "nbformat_minor": 5
}
